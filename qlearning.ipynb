{
 "cells": [
  {
   "cell_type": "code",
   "execution_count": 28,
   "metadata": {},
   "outputs": [
    {
     "name": "stdout",
     "output_type": "stream",
     "text": [
      "Imported modules\n"
     ]
    }
   ],
   "source": [
    "'''importing modules'''\n",
    "import numpy as np\n",
    "import pandas as pd\n",
    "import matplotlib.pyplot as plt\n",
    "import random\n",
    "import sys\n",
    "from time import sleep\n",
    "sys.path.append('/home/mekasaimukund/miniconda3/envs/nn/lib/python3.10/site-packages')\n",
    "\n",
    "import gym\n",
    "import pygame\n",
    "from collections import defaultdict\n",
    "\n",
    "# params\n",
    "global eps\n",
    "eps = 0.1\n",
    "alpha = 0.1\n",
    "gamma = 0.6\n",
    "train_epochs = int(1e5)\n",
    "MAX_LIM = 200\n",
    "\n",
    "pygame.init()\n",
    "print('Imported modules')"
   ]
  },
  {
   "cell_type": "code",
   "execution_count": 29,
   "metadata": {},
   "outputs": [
    {
     "name": "stdout",
     "output_type": "stream",
     "text": [
      "+---------+\n",
      "|\u001b[34;1mR\u001b[0m: | : :\u001b[35mG\u001b[0m|\n",
      "| : | : : |\n",
      "| : : : : |\n",
      "| | :\u001b[43m \u001b[0m| : |\n",
      "|Y| : |B: |\n",
      "+---------+\n",
      "\n"
     ]
    }
   ],
   "source": [
    "# environment setup\n",
    "env = gym.make('Taxi-v3').env\n",
    "env.reset()\n",
    "env.render()"
   ]
  },
  {
   "cell_type": "code",
   "execution_count": 30,
   "metadata": {},
   "outputs": [],
   "source": [
    "Q_table = np.zeros( [env.observation_space.n, env.action_space.n] )\n",
    "frames = list()"
   ]
  },
  {
   "cell_type": "code",
   "execution_count": 31,
   "metadata": {},
   "outputs": [],
   "source": [
    "def print_qtable(e):\n",
    "    # for frame in frames:\n",
    "        # print(frame)\n",
    "\n",
    "    with open('qtable' + str(eps) + '.txt', 'w') as f:\n",
    "        for i in range(len(Q_table)):\n",
    "            for j in range(len(Q_table[i])):\n",
    "                f.write(str(Q_table[i][j]) + ' ')\n",
    "            f.write('\\n')\n",
    "\n",
    "    print('Time: {}'.format(e))\n",
    "\n",
    "\n",
    "def take_action(state):\n",
    "# epsilon greedy policy\n",
    "    if random.random() < eps:\n",
    "        return env.action_space.sample()\n",
    "    else:\n",
    "        return np.argmax(Q_table[state])\n",
    "        \n",
    "\n",
    "def update_Q_table(alpha, gamma, state, action, reward, next_state):\n",
    "    Q_table[state, action] = Q_table[state, action] + alpha*( reward + gamma * np.max(Q_table[next_state]) - Q_table[state, action] ) \n",
    "    # Q_table[state, action] = (1 - alpha)*Q_table[state, action] + alpha*( reward + gamma * np.max(Q_table[next_state]) ) \n"
   ]
  },
  {
   "cell_type": "code",
   "execution_count": 32,
   "metadata": {},
   "outputs": [
    {
     "name": "stdout",
     "output_type": "stream",
     "text": [
      "Time: 100000\n",
      "Training finished\n"
     ]
    }
   ],
   "source": [
    "for _ in range(train_epochs):\n",
    "    cur_state = env.reset()\n",
    "    goal = False\n",
    "\n",
    "    time = 0\n",
    "    while not goal:\n",
    "        action = take_action(cur_state)\n",
    "\n",
    "        next_state, reward, goal, info = env.step(action)\n",
    "        # print(next_state, reward, goal, info)\n",
    "\n",
    "        update_Q_table(alpha, gamma, cur_state, action, reward, next_state)\n",
    "        cur_state = next_state\n",
    "\n",
    "        time += 1\n",
    "    # print('Time: {}'.format(time))\n",
    "    \n",
    "print_qtable(train_epochs)\n",
    "print('Training finished')"
   ]
  },
  {
   "cell_type": "code",
   "execution_count": 35,
   "metadata": {},
   "outputs": [
    {
     "name": "stdout",
     "output_type": "stream",
     "text": [
      "Mean time: 12.95\n",
      "Mean Penalties: 0.0\n"
     ]
    }
   ],
   "source": [
    "# Working of agent\n",
    "runs = 100\n",
    "mean_time = 0\n",
    "penalties = 0\n",
    "for r in range(runs):\n",
    "    state = env.reset()\n",
    "    done = False\n",
    "\n",
    "    while done is False:\n",
    "        action = np.argmax(Q_table[state, :]) # take_action(state)\n",
    "        next_state, action, done, info = env.step(action)\n",
    "\n",
    "        if reward == -10:\n",
    "            penalties += 1\n",
    "\n",
    "        state = next_state  \n",
    "        mean_time += 1\n",
    "\n",
    "print('Mean time: {}'.format(mean_time/runs))\n",
    "print('Mean Penalties: {}'.format(penalties/runs))"
   ]
  },
  {
   "cell_type": "code",
   "execution_count": 36,
   "metadata": {},
   "outputs": [
    {
     "name": "stdout",
     "output_type": "stream",
     "text": [
      "0.10872210151266337\n"
     ]
    }
   ],
   "source": [
    "old_table = np.zeros( (env.observation_space.n, env.action_space.n) )\n",
    "with open ('qtable.txt', 'r') as f:\n",
    "    lines = f.readlines()\n",
    "    for i, line in enumerate(lines):\n",
    "        line = line.strip()\n",
    "        old_table[i] = np.array(line.split(' '))\n",
    "\n",
    "diff = 0\n",
    "for i in range(len(Q_table)):\n",
    "    for j in range(len(Q_table[i])):\n",
    "        diff = max(diff, Q_table[i][j] - old_table[i][j])\n",
    "print(diff)"
   ]
  }
 ],
 "metadata": {
  "kernelspec": {
   "display_name": "Python 3.10.6 ('nn')",
   "language": "python",
   "name": "python3"
  },
  "language_info": {
   "codemirror_mode": {
    "name": "ipython",
    "version": 3
   },
   "file_extension": ".py",
   "mimetype": "text/x-python",
   "name": "python",
   "nbconvert_exporter": "python",
   "pygments_lexer": "ipython3",
   "version": "3.10.6"
  },
  "orig_nbformat": 4,
  "vscode": {
   "interpreter": {
    "hash": "a9bbdcd43ca33f3fef16f6777c99f456688c24aa5862c7b4af1a417f67d0804a"
   }
  }
 },
 "nbformat": 4,
 "nbformat_minor": 2
}
